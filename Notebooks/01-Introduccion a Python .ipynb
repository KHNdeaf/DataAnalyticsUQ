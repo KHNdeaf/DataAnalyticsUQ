{
  "nbformat": 4,
  "nbformat_minor": 0,
  "metadata": {
    "colab": {
      "provenance": [],
      "authorship_tag": "ABX9TyNfMwEmdDW77j6T8elfg6w3",
      "include_colab_link": true
    },
    "kernelspec": {
      "name": "python3",
      "display_name": "Python 3"
    },
    "language_info": {
      "name": "python"
    }
  },
  "cells": [
    {
      "cell_type": "markdown",
      "metadata": {
        "id": "view-in-github",
        "colab_type": "text"
      },
      "source": [
        "<a href=\"https://colab.research.google.com/github/niconomist98/DataAnalyticsUQ/blob/main/01-Introduccion%20a%20Python%20.ipynb\" target=\"_parent\"><img src=\"https://colab.research.google.com/assets/colab-badge.svg\" alt=\"Open In Colab\"/></a>"
      ]
    },
    {
      "cell_type": "code",
      "source": [
        "## Introduccion de python, que es, para que sirve, etc\n",
        "\n",
        "## Diferencia entre anaconda, python, google colab y cual se utiliará\n",
        "\n",
        "### IMPRIMIR VALORES EN PYTHON\n",
        "\n",
        "#Para imprimir texto, usa la función print() con el texto entre comillas.\n",
        "\n",
        "print(\"Hola, mundo!\")\n",
        "\n",
        "# Puedes imprimir números directamente.\n",
        "print(123)\n",
        "\n",
        "# También puedes imprimir variables.\n",
        "nombre = \"Juan\"\n",
        "print(nombre)\n",
        "\n",
        "# Para imprimir varios valores en la misma línea, separa los valores con comas.\n",
        "edad = 30\n",
        "print(\"Mi nombre es\", nombre, \"y tengo\", edad, \"años.\")\n",
        "\n",
        "# Puedes usar f-strings para combinar texto y variables de forma más legible.\n",
        "print(f\"Mi nombre es {nombre} y tengo {edad} años.\")\n"
      ],
      "metadata": {
        "id": "_NxCPlI_Slhn"
      },
      "execution_count": null,
      "outputs": []
    },
    {
      "cell_type": "code",
      "source": [
        "# COMENTARIOS MULTILINEA\n",
        "\n",
        "# Esto es un comentario de una sola línea.\n",
        "\n",
        "\"\"\"\n",
        "Esto es un comentario\n",
        "multilinea.\n",
        "Puede abarcar varias líneas.\n",
        "\"\"\"\n",
        "\n",
        "print(\"Hola, mundo!\")\n"
      ],
      "metadata": {
        "id": "TOzHqOaQS9WK"
      },
      "execution_count": null,
      "outputs": []
    },
    {
      "cell_type": "code",
      "source": [
        "# DECLARAR UNA VARIABLE\n",
        "\n",
        "# Declarar una variable de tipo entero\n",
        "edad = 25\n",
        "print(edad)\n",
        "\n",
        "# Declarar una variable de tipo flotante\n",
        "estatura_en_metros = 1.5\n",
        "print(estatura_en_metros)\n",
        "\n",
        "# Declarar una variable de tipo cadena de texto\n",
        "nombre = \"Maria\"\n",
        "print(nombre)\n",
        "\n",
        "# Declarar una variable de tipo booleano\n",
        "es_mayor_de_edad = True\n",
        "print(es_mayor_de_edad)\n"
      ],
      "metadata": {
        "id": "aPbmV8lJTF8n"
      },
      "execution_count": null,
      "outputs": []
    },
    {
      "cell_type": "code",
      "source": [
        "# SE PUEDE USAR PYTHON COMO CALCULADORA\n",
        "\n",
        "2+2+2+2+2\n"
      ],
      "metadata": {
        "colab": {
          "base_uri": "https://localhost:8080/"
        },
        "id": "oXnxrRqKTN3A",
        "outputId": "ae964c4a-e830-47d8-d8dd-3eb8475d63a6"
      },
      "execution_count": null,
      "outputs": [
        {
          "output_type": "execute_result",
          "data": {
            "text/plain": [
              "10"
            ]
          },
          "metadata": {},
          "execution_count": 16
        }
      ]
    },
    {
      "cell_type": "code",
      "source": [
        "# PARA GUARDAR EL RESULTADO DE UNA OPERACION EN UNA VARIABLE\n",
        "\n",
        "suma=3+3\n",
        "resta=4-2\n",
        "\n",
        "print(suma/resta)\n",
        "\n",
        "#Imprimiendo el resultado directamente\n",
        "print((3+3)/(4-2))"
      ],
      "metadata": {
        "id": "AkmIxd7hTf9W"
      },
      "execution_count": null,
      "outputs": []
    },
    {
      "cell_type": "code",
      "source": [
        "# ESTRUCTURAS DE DATOS\n",
        "\n",
        "# Listas\n",
        "# Las listas son secuencias ordenadas de elementos que pueden ser de diferentes tipos.\n",
        "mi_lista = [1, 2, 3, \"hola\", True]\n",
        "print(mi_lista)\n",
        "\n",
        "# Tuplas\n",
        "# Las tuplas son similares a las listas, pero son inmutables (no se pueden modificar después de crearlas).\n",
        "mi_tupla = (1, 2, 3, \"hola\", True)\n",
        "print(mi_tupla)\n",
        "\n",
        "# Diccionarios\n",
        "# Los diccionarios son estructuras de datos que almacenan pares clave-valor.\n",
        "mi_diccionario = {\"nombre\": \"Juan\", \"edad\": 30, \"ciudad\": \"Madrid\"}\n",
        "print(mi_diccionario)\n",
        "\n",
        "# Conjuntos\n",
        "# Los conjuntos son colecciones de elementos únicos (sin duplicados).\n",
        "mi_conjunto = {1, 2, 3, 4, 4, 5}\n",
        "print(mi_conjunto)  # Salida: {1, 2, 3, 4, 5}\n"
      ],
      "metadata": {
        "id": "i8DAllXKTujA"
      },
      "execution_count": null,
      "outputs": []
    },
    {
      "cell_type": "code",
      "source": [
        "# MANIPULACION DE LISTAS EN PYTHON\n",
        "\n",
        "# Crear una lista\n",
        "mi_lista = [1, 2, 3, 4, 5]\n",
        "\n",
        "# Acceder a elementos de la lista\n",
        "print(mi_lista[0])  # Imprime el primer elemento (1)\n",
        "print(mi_lista[-1])  # Imprime el último elemento (5)\n",
        "\n",
        "# Agregar elementos a la lista\n",
        "mi_lista.append(6)  # Agrega un elemento al final de la lista\n",
        "print(mi_lista)  # [1, 2, 3, 4, 5, 6]\n",
        "\n",
        "# Insertar elementos en una posición específica\n",
        "mi_lista.insert(2, \"hola\")  # Inserta \"hola\" en la posición 2\n",
        "print(mi_lista)  # [1, 2, \"hola\", 3, 4, 5, 6]\n",
        "\n",
        "# Eliminar elementos de la lista\n",
        "mi_lista.remove(\"hola\")  # Elimina el primer elemento que coincida con \"hola\"\n",
        "print(mi_lista)  # [1, 2, 3, 4, 5, 6]\n",
        "\n",
        "# Eliminar el último elemento de la lista\n",
        "mi_lista.pop()  # Elimina el último elemento (6)\n",
        "print(mi_lista)  # [1, 2, 3, 4, 5]\n",
        "\n",
        "# Obtener la longitud de la lista\n",
        "print(len(mi_lista))  # Imprime 5\n",
        "\n",
        "# Ordenar la lista\n",
        "mi_lista.sort()  # Ordena la lista en orden ascendente\n",
        "print(mi_lista)  # [1, 2, 3, 4, 5]\n",
        "\n",
        "# Invertir la lista\n",
        "mi_lista.reverse()  # Invierte el orden de los elementos\n",
        "print(mi_lista)  # [5, 4, 3, 2, 1]\n",
        "\n",
        "# Copiar una lista\n",
        "nueva_lista = mi_lista.copy()  # Crea una copia de la lista\n",
        "print(nueva_lista)  # [5, 4, 3, 2, 1]\n",
        "\n",
        "# Limpiar la lista\n",
        "mi_lista.clear()  # Elimina todos los elementos de la lista\n",
        "print(mi_lista)  # []\n"
      ],
      "metadata": {
        "id": "MHmMP-qlT1dG"
      },
      "execution_count": null,
      "outputs": []
    },
    {
      "cell_type": "code",
      "source": [
        "# OPERACIONES ENTRE LISTAS\n",
        "\n",
        "# Crear dos listas\n",
        "lista1 = [1, 2, 3]\n",
        "lista2 = [4, 5, 6]\n",
        "\n",
        "# Concatenar listas\n",
        "lista3 = lista1 + lista2\n",
        "print(lista3)  # [1, 2, 3, 4, 5, 6]\n",
        "\n",
        "# Repetir una lista\n",
        "lista4 = lista1 * 2\n",
        "print(lista4)  # [1, 2, 3, 1, 2, 3]\n",
        "\n",
        "# Verificar si un elemento está en una lista\n",
        "if 2 in lista1:\n",
        "  print(\"El número 2 está en la lista1\")\n",
        "\n",
        "# Obtener el índice de un elemento en una lista\n",
        "indice = lista1.index(2)\n",
        "print(indice)  # 1\n",
        "\n",
        "# Obtener la longitud de una lista\n",
        "longitud = len(lista1)\n",
        "print(longitud)  # 3\n",
        "\n",
        "# Ordenar una lista\n",
        "lista1.sort()\n",
        "print(lista1)  # [1, 2, 3]\n",
        "\n",
        "# Invertir una lista\n",
        "lista1.reverse()\n",
        "print(lista1)  # [3, 2, 1]\n"
      ],
      "metadata": {
        "id": "IjrHRs23UGHB"
      },
      "execution_count": null,
      "outputs": []
    },
    {
      "cell_type": "code",
      "source": [
        "# LAS MATRICES EN PYTHON SON LISTAS DE LISTAS\n",
        "\n",
        "# Crear una matriz\n",
        "matriz = [[1, 2, 3],\n",
        "           [4, 5, 6],\n",
        "           [7, 8, 9]]\n",
        "\n",
        "# Acceder a elementos de la matriz\n",
        "print(matriz[0][0])  # Imprime el primer elemento (1)\n",
        "print(matriz[1][2])  # Imprime el elemento en la fila 2, columna 3 (6)\n"
      ],
      "metadata": {
        "id": "RYpD1FPfUOAC"
      },
      "execution_count": null,
      "outputs": []
    },
    {
      "cell_type": "code",
      "source": [
        "# CREAR UN DICCIONARIO EN PYTHON\n",
        "\n",
        "# Crear un diccionario\n",
        "mi_diccionario = {\"nombre\": \"Juan\", \"edad\": 30, \"ciudad\": \"Madrid\"}\n",
        "\n",
        "# Acceder a los valores del diccionario\n",
        "print(mi_diccionario[\"nombre\"])  # Imprime \"Juan\"\n",
        "\n",
        "# Agregar un nuevo par clave-valor\n",
        "mi_diccionario[\"profesion\"] = \"Ingeniero\"\n",
        "print(mi_diccionario)  # {'nombre': 'Juan', 'edad': 30, 'ciudad': 'Madrid', 'profesion': 'Ingeniero'}\n",
        "\n",
        "# Modificar el valor de una clave\n",
        "mi_diccionario[\"edad\"] = 31\n",
        "print(mi_diccionario)  # {'nombre': 'Juan', 'edad': 31, 'ciudad': 'Madrid', 'profesion': 'Ingeniero'}\n",
        "\n",
        "# Eliminar un par clave-valor\n",
        "del mi_diccionario[\"ciudad\"]\n",
        "print(mi_diccionario)  # {'nombre': 'Juan', 'edad': 31, 'profesion': 'Ingeniero'}\n",
        "\n",
        "# Verificar si una clave existe\n",
        "if \"nombre\" in mi_diccionario:\n",
        "    print(\"La clave 'nombre' existe en el diccionario.\")\n",
        "\n",
        "# Obtener todas las claves del diccionario\n",
        "claves = mi_diccionario.keys()\n",
        "print(claves)  # dict_keys(['nombre', 'edad', 'profesion'])\n",
        "\n",
        "# Obtener todos los valores del diccionario\n",
        "valores = mi_diccionario.values()\n",
        "print(valores)  # dict_values(['Juan', 31, 'Ingeniero'])\n",
        "\n",
        "# Obtener todos los pares clave-valor del diccionario\n",
        "items = mi_diccionario.items()\n",
        "print(items)  # dict_items([('nombre', 'Juan'), ('edad', 31), ('profesion', 'Ingeniero')])\n",
        "\n",
        "# Limpiar el diccionario\n",
        "mi_diccionario.clear()\n",
        "print(mi_diccionario)  # {}\n"
      ],
      "metadata": {
        "id": "CCRWESd2VA8H"
      },
      "execution_count": null,
      "outputs": []
    },
    {
      "cell_type": "code",
      "source": [
        "# CONDICIONALES\n",
        "\n",
        "# Condicional if\n",
        "edad = 20\n",
        "\n",
        "if edad >= 18:\n",
        "  print(\"Eres mayor de edad.\")\n",
        "\n",
        "# Condicional if-else\n",
        "edad = 15\n",
        "\n",
        "if edad >= 18:\n",
        "  print(\"Eres mayor de edad.\")\n",
        "else:\n",
        "  print(\"Eres menor de edad.\")\n",
        "\n",
        "# Condicional if-elif-else\n",
        "nota = 85\n",
        "\n",
        "if nota >= 90:\n",
        "  print(\"Excelente!\")\n",
        "elif nota >= 80:\n",
        "  print(\"Muy bien!\")\n",
        "elif nota >= 70:\n",
        "  print(\"Bien!\")\n",
        "else:\n",
        "  print(\"Debes esforzarte más.\")\n",
        "\n"
      ],
      "metadata": {
        "id": "Yh19XUgCVKAV"
      },
      "execution_count": null,
      "outputs": []
    },
    {
      "cell_type": "code",
      "source": [
        "## PARA LEER UN CSV\n",
        "\n",
        "df = pd.read_csv('estudiantes_actuales.csv')\n",
        "print(df)"
      ],
      "metadata": {
        "colab": {
          "base_uri": "https://localhost:8080/",
          "height": 365
        },
        "id": "LD4XbdCdVPvL",
        "outputId": "3303dd0d-4918-4109-f598-b9cf43450c89"
      },
      "execution_count": null,
      "outputs": [
        {
          "output_type": "error",
          "ename": "FileNotFoundError",
          "evalue": "[Errno 2] No such file or directory: 'estudiantes_actuales.csv'",
          "traceback": [
            "\u001b[0;31m---------------------------------------------------------------------------\u001b[0m",
            "\u001b[0;31mFileNotFoundError\u001b[0m                         Traceback (most recent call last)",
            "\u001b[0;32m<ipython-input-17-66881f25a114>\u001b[0m in \u001b[0;36m<cell line: 0>\u001b[0;34m()\u001b[0m\n\u001b[1;32m      1\u001b[0m \u001b[0;31m## PARA LEER UN CSV\u001b[0m\u001b[0;34m\u001b[0m\u001b[0;34m\u001b[0m\u001b[0m\n\u001b[1;32m      2\u001b[0m \u001b[0;34m\u001b[0m\u001b[0m\n\u001b[0;32m----> 3\u001b[0;31m \u001b[0mdf_leido\u001b[0m \u001b[0;34m=\u001b[0m \u001b[0mpd\u001b[0m\u001b[0;34m.\u001b[0m\u001b[0mread_csv\u001b[0m\u001b[0;34m(\u001b[0m\u001b[0;34m'estudiantes_actuales.csv'\u001b[0m\u001b[0;34m)\u001b[0m\u001b[0;34m\u001b[0m\u001b[0;34m\u001b[0m\u001b[0m\n\u001b[0m\u001b[1;32m      4\u001b[0m \u001b[0mprint\u001b[0m\u001b[0;34m(\u001b[0m\u001b[0mdf_leido\u001b[0m\u001b[0;34m)\u001b[0m\u001b[0;34m\u001b[0m\u001b[0;34m\u001b[0m\u001b[0m\n",
            "\u001b[0;32m/usr/local/lib/python3.11/dist-packages/pandas/io/parsers/readers.py\u001b[0m in \u001b[0;36mread_csv\u001b[0;34m(filepath_or_buffer, sep, delimiter, header, names, index_col, usecols, dtype, engine, converters, true_values, false_values, skipinitialspace, skiprows, skipfooter, nrows, na_values, keep_default_na, na_filter, verbose, skip_blank_lines, parse_dates, infer_datetime_format, keep_date_col, date_parser, date_format, dayfirst, cache_dates, iterator, chunksize, compression, thousands, decimal, lineterminator, quotechar, quoting, doublequote, escapechar, comment, encoding, encoding_errors, dialect, on_bad_lines, delim_whitespace, low_memory, memory_map, float_precision, storage_options, dtype_backend)\u001b[0m\n\u001b[1;32m   1024\u001b[0m     \u001b[0mkwds\u001b[0m\u001b[0;34m.\u001b[0m\u001b[0mupdate\u001b[0m\u001b[0;34m(\u001b[0m\u001b[0mkwds_defaults\u001b[0m\u001b[0;34m)\u001b[0m\u001b[0;34m\u001b[0m\u001b[0;34m\u001b[0m\u001b[0m\n\u001b[1;32m   1025\u001b[0m \u001b[0;34m\u001b[0m\u001b[0m\n\u001b[0;32m-> 1026\u001b[0;31m     \u001b[0;32mreturn\u001b[0m \u001b[0m_read\u001b[0m\u001b[0;34m(\u001b[0m\u001b[0mfilepath_or_buffer\u001b[0m\u001b[0;34m,\u001b[0m \u001b[0mkwds\u001b[0m\u001b[0;34m)\u001b[0m\u001b[0;34m\u001b[0m\u001b[0;34m\u001b[0m\u001b[0m\n\u001b[0m\u001b[1;32m   1027\u001b[0m \u001b[0;34m\u001b[0m\u001b[0m\n\u001b[1;32m   1028\u001b[0m \u001b[0;34m\u001b[0m\u001b[0m\n",
            "\u001b[0;32m/usr/local/lib/python3.11/dist-packages/pandas/io/parsers/readers.py\u001b[0m in \u001b[0;36m_read\u001b[0;34m(filepath_or_buffer, kwds)\u001b[0m\n\u001b[1;32m    618\u001b[0m \u001b[0;34m\u001b[0m\u001b[0m\n\u001b[1;32m    619\u001b[0m     \u001b[0;31m# Create the parser.\u001b[0m\u001b[0;34m\u001b[0m\u001b[0;34m\u001b[0m\u001b[0m\n\u001b[0;32m--> 620\u001b[0;31m     \u001b[0mparser\u001b[0m \u001b[0;34m=\u001b[0m \u001b[0mTextFileReader\u001b[0m\u001b[0;34m(\u001b[0m\u001b[0mfilepath_or_buffer\u001b[0m\u001b[0;34m,\u001b[0m \u001b[0;34m**\u001b[0m\u001b[0mkwds\u001b[0m\u001b[0;34m)\u001b[0m\u001b[0;34m\u001b[0m\u001b[0;34m\u001b[0m\u001b[0m\n\u001b[0m\u001b[1;32m    621\u001b[0m \u001b[0;34m\u001b[0m\u001b[0m\n\u001b[1;32m    622\u001b[0m     \u001b[0;32mif\u001b[0m \u001b[0mchunksize\u001b[0m \u001b[0;32mor\u001b[0m \u001b[0miterator\u001b[0m\u001b[0;34m:\u001b[0m\u001b[0;34m\u001b[0m\u001b[0;34m\u001b[0m\u001b[0m\n",
            "\u001b[0;32m/usr/local/lib/python3.11/dist-packages/pandas/io/parsers/readers.py\u001b[0m in \u001b[0;36m__init__\u001b[0;34m(self, f, engine, **kwds)\u001b[0m\n\u001b[1;32m   1618\u001b[0m \u001b[0;34m\u001b[0m\u001b[0m\n\u001b[1;32m   1619\u001b[0m         \u001b[0mself\u001b[0m\u001b[0;34m.\u001b[0m\u001b[0mhandles\u001b[0m\u001b[0;34m:\u001b[0m \u001b[0mIOHandles\u001b[0m \u001b[0;34m|\u001b[0m \u001b[0;32mNone\u001b[0m \u001b[0;34m=\u001b[0m \u001b[0;32mNone\u001b[0m\u001b[0;34m\u001b[0m\u001b[0;34m\u001b[0m\u001b[0m\n\u001b[0;32m-> 1620\u001b[0;31m         \u001b[0mself\u001b[0m\u001b[0;34m.\u001b[0m\u001b[0m_engine\u001b[0m \u001b[0;34m=\u001b[0m \u001b[0mself\u001b[0m\u001b[0;34m.\u001b[0m\u001b[0m_make_engine\u001b[0m\u001b[0;34m(\u001b[0m\u001b[0mf\u001b[0m\u001b[0;34m,\u001b[0m \u001b[0mself\u001b[0m\u001b[0;34m.\u001b[0m\u001b[0mengine\u001b[0m\u001b[0;34m)\u001b[0m\u001b[0;34m\u001b[0m\u001b[0;34m\u001b[0m\u001b[0m\n\u001b[0m\u001b[1;32m   1621\u001b[0m \u001b[0;34m\u001b[0m\u001b[0m\n\u001b[1;32m   1622\u001b[0m     \u001b[0;32mdef\u001b[0m \u001b[0mclose\u001b[0m\u001b[0;34m(\u001b[0m\u001b[0mself\u001b[0m\u001b[0;34m)\u001b[0m \u001b[0;34m->\u001b[0m \u001b[0;32mNone\u001b[0m\u001b[0;34m:\u001b[0m\u001b[0;34m\u001b[0m\u001b[0;34m\u001b[0m\u001b[0m\n",
            "\u001b[0;32m/usr/local/lib/python3.11/dist-packages/pandas/io/parsers/readers.py\u001b[0m in \u001b[0;36m_make_engine\u001b[0;34m(self, f, engine)\u001b[0m\n\u001b[1;32m   1878\u001b[0m                 \u001b[0;32mif\u001b[0m \u001b[0;34m\"b\"\u001b[0m \u001b[0;32mnot\u001b[0m \u001b[0;32min\u001b[0m \u001b[0mmode\u001b[0m\u001b[0;34m:\u001b[0m\u001b[0;34m\u001b[0m\u001b[0;34m\u001b[0m\u001b[0m\n\u001b[1;32m   1879\u001b[0m                     \u001b[0mmode\u001b[0m \u001b[0;34m+=\u001b[0m \u001b[0;34m\"b\"\u001b[0m\u001b[0;34m\u001b[0m\u001b[0;34m\u001b[0m\u001b[0m\n\u001b[0;32m-> 1880\u001b[0;31m             self.handles = get_handle(\n\u001b[0m\u001b[1;32m   1881\u001b[0m                 \u001b[0mf\u001b[0m\u001b[0;34m,\u001b[0m\u001b[0;34m\u001b[0m\u001b[0;34m\u001b[0m\u001b[0m\n\u001b[1;32m   1882\u001b[0m                 \u001b[0mmode\u001b[0m\u001b[0;34m,\u001b[0m\u001b[0;34m\u001b[0m\u001b[0;34m\u001b[0m\u001b[0m\n",
            "\u001b[0;32m/usr/local/lib/python3.11/dist-packages/pandas/io/common.py\u001b[0m in \u001b[0;36mget_handle\u001b[0;34m(path_or_buf, mode, encoding, compression, memory_map, is_text, errors, storage_options)\u001b[0m\n\u001b[1;32m    871\u001b[0m         \u001b[0;32mif\u001b[0m \u001b[0mioargs\u001b[0m\u001b[0;34m.\u001b[0m\u001b[0mencoding\u001b[0m \u001b[0;32mand\u001b[0m \u001b[0;34m\"b\"\u001b[0m \u001b[0;32mnot\u001b[0m \u001b[0;32min\u001b[0m \u001b[0mioargs\u001b[0m\u001b[0;34m.\u001b[0m\u001b[0mmode\u001b[0m\u001b[0;34m:\u001b[0m\u001b[0;34m\u001b[0m\u001b[0;34m\u001b[0m\u001b[0m\n\u001b[1;32m    872\u001b[0m             \u001b[0;31m# Encoding\u001b[0m\u001b[0;34m\u001b[0m\u001b[0;34m\u001b[0m\u001b[0m\n\u001b[0;32m--> 873\u001b[0;31m             handle = open(\n\u001b[0m\u001b[1;32m    874\u001b[0m                 \u001b[0mhandle\u001b[0m\u001b[0;34m,\u001b[0m\u001b[0;34m\u001b[0m\u001b[0;34m\u001b[0m\u001b[0m\n\u001b[1;32m    875\u001b[0m                 \u001b[0mioargs\u001b[0m\u001b[0;34m.\u001b[0m\u001b[0mmode\u001b[0m\u001b[0;34m,\u001b[0m\u001b[0;34m\u001b[0m\u001b[0;34m\u001b[0m\u001b[0m\n",
            "\u001b[0;31mFileNotFoundError\u001b[0m: [Errno 2] No such file or directory: 'estudiantes_actuales.csv'"
          ]
        }
      ]
    },
    {
      "cell_type": "code",
      "execution_count": null,
      "metadata": {
        "colab": {
          "base_uri": "https://localhost:8080/"
        },
        "id": "vNOx2tkoMyl5",
        "outputId": "ffed4da0-0007-42b6-a8e6-16c4aa3e4e56"
      },
      "outputs": [
        {
          "output_type": "stream",
          "name": "stdout",
          "text": [
            "Requirement already satisfied: pandas in /usr/local/lib/python3.11/dist-packages (2.2.2)\n",
            "Requirement already satisfied: numpy>=1.23.2 in /usr/local/lib/python3.11/dist-packages (from pandas) (1.26.4)\n",
            "Requirement already satisfied: python-dateutil>=2.8.2 in /usr/local/lib/python3.11/dist-packages (from pandas) (2.8.2)\n",
            "Requirement already satisfied: pytz>=2020.1 in /usr/local/lib/python3.11/dist-packages (from pandas) (2024.2)\n",
            "Requirement already satisfied: tzdata>=2022.7 in /usr/local/lib/python3.11/dist-packages (from pandas) (2025.1)\n",
            "Requirement already satisfied: six>=1.5 in /usr/local/lib/python3.11/dist-packages (from python-dateutil>=2.8.2->pandas) (1.17.0)\n",
            "    año  tasa de desempleo masculino  tasa de desempleo femenino  \\\n",
            "0  2020                          6.2                         5.4   \n",
            "1  2021                          5.8                         4.9   \n",
            "2  2022                          7.1                         6.4   \n",
            "3  2023                          6.4                         6.0   \n",
            "4  2024                          6.3                         6.2   \n",
            "\n",
            "   salario promedio masculino (USD)  salario promedio femenino (USD)  \n",
            "0                               900                             1000  \n",
            "1                               950                             1050  \n",
            "2                              1000                             1080  \n",
            "3                              1100                             1200  \n",
            "4                              1200                             1200  \n"
          ]
        }
      ],
      "source": [
        "# EJEMPLOS PRACTICOS CON DATOS FICTICIOS\n",
        "\n",
        "## Para instalar pandas\n",
        "\n",
        "!pip install pandas\n",
        "\n",
        "## para crear un dataframe con datos\n",
        "\n",
        "import pandas as pd\n",
        "\n",
        "data = {\n",
        "    'año': [ '2020', '2021', '2022', '2023', '2024'],\n",
        "    'tasa de desempleo masculino':[6.2, 5.8, 7.1, 6.4, 6.3],\n",
        "    'tasa de desempleo femenino': [5.4, 4.9, 6.4, 6.0, 6.2],\n",
        "    'salario promedio masculino (USD)' : [900, 950, 1000, 1100, 1200],\n",
        "    'salario promedio femenino (USD)' : [1000, 1050, 1080, 1200, 1200]\n",
        "}\n",
        "\n",
        "df = pd.DataFrame(data)\n",
        "\n",
        "print(df)\n",
        "\n"
      ]
    },
    {
      "cell_type": "code",
      "source": [
        "## Para obtener estadisticas descriptivas utiliando el ejemplo anterior\n",
        "## media, mediana y desviacion estandar\n",
        "\n",
        "print(df[['tasa de desempleo masculino', 'tasa de desempleo femenino',\n",
        "          'salario promedio masculino (USD)', 'salario promedio femenino (USD)']].describe())\n",
        "\n",
        "\n",
        "mean_masculino = df['tasa de desempleo masculino'].mean()\n",
        "mean_femenino = df['tasa de desempleo femenino'].mean()\n",
        "\n",
        "print(f\"Media de tasa de desempleo masculino: {mean_masculino}\")\n",
        "print(f\"Media de tasa de desempleo femenino: {mean_femenino}\")"
      ],
      "metadata": {
        "colab": {
          "base_uri": "https://localhost:8080/"
        },
        "id": "7PMM2lJJPJ7N",
        "outputId": "2a394666-b199-4279-81d0-5ddd4e2416c2"
      },
      "execution_count": null,
      "outputs": [
        {
          "output_type": "stream",
          "name": "stdout",
          "text": [
            "       tasa de desempleo masculino  tasa de desempleo femenino  \\\n",
            "count                     5.000000                    5.000000   \n",
            "mean                      6.360000                    5.780000   \n",
            "std                       0.472229                    0.618061   \n",
            "min                       5.800000                    4.900000   \n",
            "25%                       6.200000                    5.400000   \n",
            "50%                       6.300000                    6.000000   \n",
            "75%                       6.400000                    6.200000   \n",
            "max                       7.100000                    6.400000   \n",
            "\n",
            "       salario promedio masculino (USD)  salario promedio femenino (USD)  \n",
            "count                          5.000000                         5.000000  \n",
            "mean                        1030.000000                      1106.000000  \n",
            "std                          120.415946                        90.443352  \n",
            "min                          900.000000                      1000.000000  \n",
            "25%                          950.000000                      1050.000000  \n",
            "50%                         1000.000000                      1080.000000  \n",
            "75%                         1100.000000                      1200.000000  \n",
            "max                         1200.000000                      1200.000000  \n",
            "Media de tasa de desempleo masculino: 6.36\n",
            "Media de tasa de desempleo femenino: 5.78\n"
          ]
        }
      ]
    },
    {
      "cell_type": "code",
      "source": [
        "### para calcular la diferencia promedio del salario entre hombre y mujeres para cada año\n",
        "\n",
        "df['Diferencia Salarial (USD)'] = df['salario promedio masculino (USD)'] - df['salario promedio femenino (USD)']\n",
        "\n",
        "# Mostrar la diferencia salarial por año\n",
        "\n",
        "print(df[['año', 'Diferencia Salarial (USD)']])\n",
        "\n",
        "# Calcular la diferencia promedio total\n",
        "\n",
        "diferencia_promedio = df['Diferencia Salarial (USD)'].mean()\n",
        "print(f\"Diferencia salarial promedio: {diferencia_promedio} USD\")\n",
        "\n"
      ],
      "metadata": {
        "colab": {
          "base_uri": "https://localhost:8080/"
        },
        "id": "rJfFPTSZPMUh",
        "outputId": "82928ccf-d743-4e75-c677-c92bd9e7137d"
      },
      "execution_count": null,
      "outputs": [
        {
          "output_type": "stream",
          "name": "stdout",
          "text": [
            "    año  Diferencia Salarial (USD)\n",
            "0  2020                       -100\n",
            "1  2021                       -100\n",
            "2  2022                        -80\n",
            "3  2023                       -100\n",
            "4  2024                          0\n",
            "Diferencia salarial promedio: -76.0 USD\n"
          ]
        }
      ]
    },
    {
      "cell_type": "code",
      "source": [
        "## grafico de lineas que compare la tasa de desempleo femenino y masculino\n",
        "\n",
        "import matplotlib.pyplot as plt\n",
        "\n",
        "# Gráfico de líneas para tasas de desempleo\n",
        "plt.plot(df['año'], df['tasa de desempleo masculino'], label='masculino', marker='o')\n",
        "plt.plot(df['año'], df['tasa de desempleo femenino'], label='femenino', marker='o')\n",
        "\n",
        "plt.title('Tasa de Desempleo por Género (2020-2024)')\n",
        "plt.xlabel('Año')\n",
        "plt.ylabel('Tasa de Desempleo (%)')\n",
        "plt.legend()\n",
        "plt.grid(True)\n",
        "plt.show()\n"
      ],
      "metadata": {
        "colab": {
          "base_uri": "https://localhost:8080/",
          "height": 472
        },
        "id": "1paQ6eELRWW6",
        "outputId": "283fd0c7-00e5-4d2b-ca7c-73a9a88d2c70"
      },
      "execution_count": null,
      "outputs": [
        {
          "output_type": "display_data",
          "data": {
            "text/plain": [
              "<Figure size 640x480 with 1 Axes>"
            ],
            "image/png": "[encoded data removed]"
          },
          "metadata": {}
        }
      ]
    },
    {
      "cell_type": "code",
      "source": [
        "## regresion lineal simple para predecir el salario promedio masculino usando la tasa de desempleo masculina\n",
        "\n",
        "import statsmodels.api as sm\n",
        "\n",
        "# Definir las variables dependiente (Y) e independiente (X)\n",
        "X = df['tasa de desempleo masculino']\n",
        "Y = df['salario promedio masculino (USD)']\n",
        "\n",
        "# Agregar una constante a X para el intercepto\n",
        "X = sm.add_constant(X)\n",
        "\n",
        "# Ajustar el modelo de regresión lineal\n",
        "modelo = sm.OLS(Y, X).fit()\n",
        "\n",
        "# Ver el resumen del modelo\n",
        "print(modelo.summary())"
      ],
      "metadata": {
        "colab": {
          "base_uri": "https://localhost:8080/"
        },
        "id": "s5Jc9tYCs8V1",
        "outputId": "022d8a47-269e-4c21-c8a6-d9c70db6aad8"
      },
      "execution_count": null,
      "outputs": [
        {
          "output_type": "stream",
          "name": "stdout",
          "text": [
            "                                   OLS Regression Results                                   \n",
            "============================================================================================\n",
            "Dep. Variable:     salario promedio masculino (USD)   R-squared:                       0.025\n",
            "Model:                                          OLS   Adj. R-squared:                 -0.300\n",
            "Method:                               Least Squares   F-statistic:                   0.07708\n",
            "Date:                              Wed, 05 Feb 2025   Prob (F-statistic):              0.799\n",
            "Time:                                      20:03:02   Log-Likelihood:                -30.428\n",
            "No. Observations:                                 5   AIC:                             64.86\n",
            "Df Residuals:                                     3   BIC:                             64.08\n",
            "Df Model:                                         1                                         \n",
            "Covariance Type:                          nonrobust                                         \n",
            "===============================================================================================\n",
            "                                  coef    std err          t      P>|t|      [0.025      0.975]\n",
            "-----------------------------------------------------------------------------------------------\n",
            "const                         773.3184    926.563      0.835      0.465   -2175.417    3722.054\n",
            "tasa de desempleo masculino    40.3587    145.366      0.278      0.799    -422.260     502.977\n",
            "==============================================================================\n",
            "Omnibus:                          nan   Durbin-Watson:                   0.560\n",
            "Prob(Omnibus):                    nan   Jarque-Bera (JB):                0.521\n",
            "Skew:                           0.525   Prob(JB):                        0.771\n",
            "Kurtosis:                       1.818   Cond. No.                         98.5\n",
            "==============================================================================\n",
            "\n",
            "Notes:\n",
            "[1] Standard Errors assume that the covariance matrix of the errors is correctly specified.\n"
          ]
        },
        {
          "output_type": "stream",
          "name": "stderr",
          "text": [
            "/usr/local/lib/python3.11/dist-packages/statsmodels/stats/stattools.py:74: ValueWarning: omni_normtest is not valid with less than 8 observations; 5 samples were given.\n",
            "  warn(\"omni_normtest is not valid with less than 8 observations; %i \"\n"
          ]
        }
      ]
    },
    {
      "cell_type": "code",
      "source": [
        "###  EJERCICIOS ####\n",
        "#CREEN UN DATA FRAME SOBRE CONSUMO Y EL INGRESO, INCLUIR: AÑO, INGRESO (USD), CONSUMO (USD)\n",
        "#CREEN UNA REGRESION LINEAL PARA ESTIMAR LA RELACION ENTRE EL CONSUMO Y EL INGRESO\n",
        "#Interpretenla\n",
        "#Calcula el promedio, la mediana y la desviación estándar del consumo y el ingreso de los hogares durante el período de 10 años.\n",
        "#¿En qué año el consumo fue más alto y en qué año fue más bajo?\n",
        "#¿Cuál fue el ingreso más bajo y el más alto durante los 10 años?\n",
        "#Calcula el coeficiente de correlación de Pearson entre Consumo (USD) y Ingreso (USD)."
      ],
      "metadata": {
        "id": "1z45lQ22y0M8"
      },
      "execution_count": null,
      "outputs": []
    },
    {
      "cell_type": "code",
      "source": [
        "### EJERCICIOS DE PRACTICA\n",
        "\n",
        "# CREEN UN DATA FRAME SOBRE CONSUMO Y EL INGRESO, INCLUIR: AÑO, INGRESO (USD), CONSUMO (USD)\n",
        "\n",
        "import pandas as pd\n",
        "import numpy as np\n",
        "import statsmodels.api as sm\n",
        "\n",
        "# Datos ficticios (pueden modificarlos)\n",
        "años = list(range(2010, 2020))\n",
        "ingreso = [20000, 22000, 24000, 26000, 28000, 30000, 32000, 34000, 36000, 38000]\n",
        "consumo = [15000, 17000, 19000, 21000, 23000, 25000, 27000, 29000, 31000, 33000]\n",
        "\n",
        "# Crear el DataFrame\n",
        "df = pd.DataFrame({\n",
        "    'Año': años,\n",
        "    'Ingreso (USD)': ingreso,\n",
        "    'Consumo (USD)': consumo\n",
        "})\n"
      ],
      "metadata": {
        "id": "5V0eamJCtsa1"
      },
      "execution_count": null,
      "outputs": []
    },
    {
      "cell_type": "code",
      "source": [
        "# CREEN UNA REGRESION LINEAL PARA ESTIMAR LA RELACION ENTRE EL CONSUMO Y EL INGRESO\n",
        "\n",
        "# Realizar la regresión lineal\n",
        "X = df['Ingreso (USD)']\n",
        "y = df['Consumo (USD)']\n",
        "X = sm.add_constant(X)  # Añadir una constante al modelo (intercepto)\n",
        "\n",
        "modelo = sm.OLS(y, X).fit()  # Ajustar el modelo\n",
        "\n",
        "# Mostrar los resultados de la regresión\n",
        "print(modelo.summary())\n",
        "\n",
        "\n",
        "#INTERPRETACION:Coeficiente de ingreso: El coeficiente de Ingreso (USD) es 1.25. Esto significa que por cada dólar adicional de ingreso,\n",
        "#el consumo promedio de los hogares aumenta en 1.25 dólares.\n",
        "\n",
        "#R-squared: El modelo explica el 99.5% de la variabilidad en el consumo con base en el ingreso,\n",
        "#lo que indica que el ingreso es un predictor muy fuerte del consumo."
      ],
      "metadata": {
        "colab": {
          "base_uri": "https://localhost:8080/"
        },
        "id": "ZTuWvLPNx_4E",
        "outputId": "90ebad72-4871-4022-fe7a-1043e2894709"
      },
      "execution_count": null,
      "outputs": [
        {
          "output_type": "stream",
          "name": "stdout",
          "text": [
            "                            OLS Regression Results                            \n",
            "==============================================================================\n",
            "Dep. Variable:          Consumo (USD)   R-squared:                       1.000\n",
            "Model:                            OLS   Adj. R-squared:                  1.000\n",
            "Method:                 Least Squares   F-statistic:                 1.937e+30\n",
            "Date:                Wed, 05 Feb 2025   Prob (F-statistic):          7.96e-119\n",
            "Time:                        20:24:36   Log-Likelihood:                 237.55\n",
            "No. Observations:                  10   AIC:                            -471.1\n",
            "Df Residuals:                       8   BIC:                            -470.5\n",
            "Df Model:                           1                                         \n",
            "Covariance Type:            nonrobust                                         \n",
            "=================================================================================\n",
            "                    coef    std err          t      P>|t|      [0.025      0.975]\n",
            "---------------------------------------------------------------------------------\n",
            "const         -5000.0000   2.12e-11  -2.35e+14      0.000   -5000.000   -5000.000\n",
            "Ingreso (USD)     1.0000   7.19e-16   1.39e+15      0.000       1.000       1.000\n",
            "==============================================================================\n",
            "Omnibus:                        3.147   Durbin-Watson:                   0.019\n",
            "Prob(Omnibus):                  0.207   Jarque-Bera (JB):                1.030\n",
            "Skew:                          -0.188   Prob(JB):                        0.598\n",
            "Kurtosis:                       1.474   Cond. No.                     1.52e+05\n",
            "==============================================================================\n",
            "\n",
            "Notes:\n",
            "[1] Standard Errors assume that the covariance matrix of the errors is correctly specified.\n",
            "[2] The condition number is large, 1.52e+05. This might indicate that there are\n",
            "strong multicollinearity or other numerical problems.\n"
          ]
        },
        {
          "output_type": "stream",
          "name": "stderr",
          "text": [
            "/usr/local/lib/python3.11/dist-packages/scipy/stats/_axis_nan_policy.py:531: UserWarning: kurtosistest only valid for n>=20 ... continuing anyway, n=10\n",
            "  res = hypotest_fun_out(*samples, **kwds)\n"
          ]
        }
      ]
    },
    {
      "cell_type": "code",
      "source": [
        "## PROMEDIO MEDIANA Y DESVIACION ESTANDAR\n",
        "\n",
        "\n",
        "# Análisis descriptivo\n",
        "promedio_consumo = df['Consumo (USD)'].mean()\n",
        "mediana_consumo = df['Consumo (USD)'].median()\n",
        "desviacion_consumo = df['Consumo (USD)'].std()\n",
        "\n",
        "promedio_ingreso = df['Ingreso (USD)'].mean()\n",
        "mediana_ingreso = df['Ingreso (USD)'].median()\n",
        "desviacion_ingreso = df['Ingreso (USD)'].std()\n",
        "\n",
        "# Mostrar los resultados\n",
        "print(f\"Promedio Consumo: {promedio_consumo}\")\n",
        "print(f\"Mediana Consumo: {mediana_consumo}\")\n",
        "print(f\"Desviación Estándar Consumo: {desviacion_consumo}\")\n",
        "print(f\"Promedio Ingreso: {promedio_ingreso}\")\n",
        "print(f\"Mediana Ingreso: {mediana_ingreso}\")\n",
        "print(f\"Desviación Estándar Ingreso: {desviacion_ingreso}\")\n",
        "\n",
        "# Años con el consumo más alto y más bajo\n",
        "año_consumo_max = df.loc[df['Consumo (USD)'].idxmax(), 'Año']\n",
        "año_consumo_min = df.loc[df['Consumo (USD)'].idxmin(), 'Año']\n",
        "\n",
        "# Años con el ingreso más alto y más bajo\n",
        "año_ingreso_max = df.loc[df['Ingreso (USD)'].idxmax(), 'Año']\n",
        "año_ingreso_min = df.loc[df['Ingreso (USD)'].idxmin(), 'Año']\n",
        "\n",
        "print(f\"Año con el Consumo más alto: {año_consumo_max}\")\n",
        "print(f\"Año con el Consumo más bajo: {año_consumo_min}\")\n",
        "print(f\"Año con el Ingreso más alto: {año_ingreso_max}\")\n",
        "print(f\"Año con el Ingreso más bajo: {año_ingreso_min}\")"
      ],
      "metadata": {
        "colab": {
          "base_uri": "https://localhost:8080/"
        },
        "id": "5PgqElhIzojk",
        "outputId": "59380954-cdf1-4387-a535-da85ae013d6a"
      },
      "execution_count": null,
      "outputs": [
        {
          "output_type": "stream",
          "name": "stdout",
          "text": [
            "Promedio Consumo: 24000.0\n",
            "Mediana Consumo: 24000.0\n",
            "Desviación Estándar Consumo: 6055.300708194983\n",
            "Promedio Ingreso: 29000.0\n",
            "Mediana Ingreso: 29000.0\n",
            "Desviación Estándar Ingreso: 6055.300708194983\n",
            "Año con el Consumo más alto: 2019\n",
            "Año con el Consumo más bajo: 2010\n",
            "Año con el Ingreso más alto: 2019\n",
            "Año con el Ingreso más bajo: 2010\n"
          ]
        }
      ]
    },
    {
      "cell_type": "code",
      "source": [
        "## COHEFICIENTE DE CORRELACION\n",
        "\n",
        "# Calcular la correlación de Pearson\n",
        "correlacion = df['Consumo (USD)'].corr(df['Ingreso (USD)'])\n",
        "print(f\"Coeficiente de correlación entre Consumo e Ingreso: {correlacion}\")\n"
      ],
      "metadata": {
        "colab": {
          "base_uri": "https://localhost:8080/"
        },
        "id": "THYKDFgWz--i",
        "outputId": "3f4e882d-90cf-4618-cca0-ea73e5277d86"
      },
      "execution_count": null,
      "outputs": [
        {
          "output_type": "stream",
          "name": "stdout",
          "text": [
            "Coeficiente de correlación entre Consumo e Ingreso: 1.0\n"
          ]
        }
      ]
    }
  ]
}