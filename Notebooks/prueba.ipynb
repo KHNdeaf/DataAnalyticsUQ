{
 "cells": [
  {
   "cell_type": "code",
   "execution_count": 1,
   "id": "5e797701",
   "metadata": {},
   "outputs": [
    {
     "name": "stdout",
     "output_type": "stream",
     "text": [
      "hola mundo\n"
     ]
    }
   ],
   "source": [
    "print(\"hola mundo\")"
   ]
  },
  {
   "cell_type": "code",
   "execution_count": 15,
   "id": "10f52621",
   "metadata": {},
   "outputs": [
    {
     "data": {
      "text/plain": [
       "'acceder'"
      ]
     },
     "execution_count": 15,
     "metadata": {},
     "output_type": "execute_result"
    }
   ],
   "source": [
    "#Crear una lista\n",
    "\n",
    "nombres = [\"Nicolas\", \"Ana\", \"Santiago\", \"Pedro\", \"Juan\",2,4,5, 7.7 , 7.8 ,[4,5,6,[2,3,4,5,\"acceder\"]]]\n",
    "\n",
    "#Acceder a los elementos de una lista\n",
    "\n",
    "nombres[-1][-1][-1]"
   ]
  },
  {
   "cell_type": "code",
   "execution_count": 16,
   "id": "1d53a897",
   "metadata": {},
   "outputs": [
    {
     "data": {
      "text/plain": [
       "[[1, 2, 3], [5, 6, 7], [8, 9, 10]]"
      ]
     },
     "execution_count": 16,
     "metadata": {},
     "output_type": "execute_result"
    }
   ],
   "source": [
    "#Crear una mtx\n",
    "\n",
    "matrix = [[1,2,3],[5,6,7],[8,9,10]]\n",
    "matrix"
   ]
  },
  {
   "cell_type": "code",
   "execution_count": 17,
   "id": "c7b9744b",
   "metadata": {},
   "outputs": [
    {
     "data": {
      "text/plain": [
       "6"
      ]
     },
     "execution_count": 17,
     "metadata": {},
     "output_type": "execute_result"
    }
   ],
   "source": [
    "matrix[1][1]"
   ]
  },
  {
   "cell_type": "code",
   "execution_count": 34,
   "id": "a4267a01",
   "metadata": {},
   "outputs": [],
   "source": [
    "#Crear diccionario \n",
    "\n",
    "diccionario_pib = {1: [1000,2000,3000],\n",
    "                   2:[1500,1700,200],\n",
    "                   3:[2000,2500,3000],\n",
    "                   4:[7000,8000,900]\n",
    "                   }"
   ]
  },
  {
   "cell_type": "code",
   "execution_count": 35,
   "id": "cea343bd",
   "metadata": {},
   "outputs": [
    {
     "data": {
      "text/plain": [
       "[1000, 2000, 3000]"
      ]
     },
     "execution_count": 35,
     "metadata": {},
     "output_type": "execute_result"
    }
   ],
   "source": [
    "diccionario_pib[1]"
   ]
  },
  {
   "cell_type": "code",
   "execution_count": null,
   "id": "9997481f",
   "metadata": {},
   "outputs": [],
   "source": []
  }
 ],
 "metadata": {
  "kernelspec": {
   "display_name": "Python 3",
   "language": "python",
   "name": "python3"
  },
  "language_info": {
   "codemirror_mode": {
    "name": "ipython",
    "version": 3
   },
   "file_extension": ".py",
   "mimetype": "text/x-python",
   "name": "python",
   "nbconvert_exporter": "python",
   "pygments_lexer": "ipython3",
   "version": "3.12.1"
  }
 },
 "nbformat": 4,
 "nbformat_minor": 5
}
